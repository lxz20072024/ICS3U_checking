{
  "nbformat": 4,
  "nbformat_minor": 0,
  "metadata": {
    "colab": {
      "provenance": []
    },
    "kernelspec": {
      "name": "python3",
      "display_name": "Python 3"
    },
    "language_info": {
      "name": "python"
    }
  },
  "cells": [
    {
      "cell_type": "code",
      "execution_count": null,
      "metadata": {
        "id": "iLJlmJqlWw_e"
      },
      "outputs": [],
      "source": [
        "import math\n",
        "import random\n",
        "import matplotlib.pyplot as plt\n",
        "import pandas as pd\n",
        "from google.colab import files\n",
        "# import ai for writing for me\n",
        "\n",
        "uploaded = files.upload()\n",
        "df = pd.read_csv('population_data.csv')\n",
        "\n",
        "def extrapolate_population(df, future_years):\n",
        "    years = df['Year'].values\n",
        "    population = df['Population'].values\n",
        "    growth_rate = (population[-1] - population[0]) / (years[-1] - years[0])\n",
        "    future_population = population[-1] + growth_rate * (future_years - years[-1])\n",
        "    return future_population\n",
        "\n",
        "graph_type = int(input(\"Press 1 for bar graph, 2 for line graph, Press 3 for extrapolation: \"))\n",
        "\n",
        "if graph_type == 1:\n",
        "    plt.bar(df['Year'], df['Population'], color='blue')\n",
        "    plt.title(\"Population Trend Over Years (Bar Graph)\")\n",
        "    plt.xlabel(\"Year\")\n",
        "    plt.ylabel(\"Population\")\n",
        "    plt.show()\n",
        "\n",
        "elif graph_type == 2:\n",
        "    plt.plot(df['Year'], df['Population'], color='red', linestyle='dashed')\n",
        "    plt.title(\"Population Trend Over Years (Line Graph)\")\n",
        "    plt.xlabel(\"Year\")\n",
        "    plt.ylabel(\"Population\")\n",
        "    plt.show()\n",
        "\n",
        "else:\n",
        "    future_years = range(2101, 2121)\n",
        "    future_population = extrapolate_population(df, future_years)\n",
        "    plt.plot(df['Year'], df['Population'], color='red', linestyle='dashed', label='Historical Data')\n",
        "    plt.plot(future_years, future_population, color='green', label='Extrapolated Data')\n",
        "    plt.title(\"Population Extrapolation\")\n",
        "    plt.xlabel(\"Year\")\n",
        "    plt.ylabel(\"Population\")\n",
        "    plt.legend()\n",
        "    plt.show()"
      ]
    }
  ]
}